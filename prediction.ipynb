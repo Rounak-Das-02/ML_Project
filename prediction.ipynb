{
  "nbformat": 4,
  "nbformat_minor": 0,
  "metadata": {
    "colab": {
      "name": "prediction.ipynb",
      "provenance": [],
      "collapsed_sections": [],
      "authorship_tag": "ABX9TyNESmTrljojitE1DsUb3iLl",
      "include_colab_link": true
    },
    "kernelspec": {
      "name": "python3",
      "display_name": "Python 3"
    },
    "language_info": {
      "name": "python"
    },
    "accelerator": "GPU"
  },
  "cells": [
    {
      "cell_type": "markdown",
      "metadata": {
        "id": "view-in-github",
        "colab_type": "text"
      },
      "source": [
        "<a href=\"https://colab.research.google.com/github/Rounak-Das-02/ML_Project/blob/master/prediction.ipynb\" target=\"_parent\"><img src=\"https://colab.research.google.com/assets/colab-badge.svg\" alt=\"Open In Colab\"/></a>"
      ]
    },
    {
      "cell_type": "code",
      "execution_count": null,
      "metadata": {
        "id": "AzVVqJU1Ye7n"
      },
      "outputs": [],
      "source": [
        "## Run this cell this if you are running it on colab\n",
        "!git clone https://github.com/Rounak-Das-02/ML_Project.git"
      ]
    },
    {
      "cell_type": "code",
      "source": [
        "import joblib\n",
        "import numpy as np\n",
        "import pandas as pd\n",
        "import xgboost as xgb"
      ],
      "metadata": {
        "id": "o_F9_kdoY5KE"
      },
      "execution_count": 2,
      "outputs": []
    },
    {
      "cell_type": "code",
      "source": [
        "## Clone this if you are running it on colab\n",
        "!unzip \"/content/ML_Project/categorical_encoder.zip\" -d \"/content/ML_Project/\""
      ],
      "metadata": {
        "id": "7CJYnRixh3ks"
      },
      "execution_count": null,
      "outputs": []
    },
    {
      "cell_type": "code",
      "source": [
        "encoder = joblib.load(\"/content/ML_Project/categorical_encoder.joblib\") ## Use categorical encoder\n",
        "dic = joblib.load(\"/content/ML_Project/categorical_encoder_dict.joblib\") ## Categorical encoder dict"
      ],
      "metadata": {
        "id": "V9Dldu9sa5NA"
      },
      "execution_count": 4,
      "outputs": []
    },
    {
      "cell_type": "code",
      "source": [
        "## Choose from these !\n",
        " \n",
        "\n",
        "# manufacturer = \n",
        "# ['acura' 'alfa-romeo' 'aston-martin' 'audi' 'bmw' 'buick' 'cadillac'\n",
        "#  'chevrolet' 'chrysler' 'datsun' 'dodge' 'ferrari' 'fiat' 'ford' 'gmc'\n",
        "#  'harley-davidson' 'honda' 'hyundai' 'infiniti' 'jaguar' 'jeep' 'kia'\n",
        "#  'land rover' 'lexus' 'lincoln' 'mazda' 'mercedes-benz' 'mercury' 'mini'\n",
        "#  'mitsubishi' 'morgan' 'nissan' 'pontiac' 'porsche' 'ram' 'rover' 'saturn'\n",
        "#  'subaru' 'tesla' 'toyota' 'volkswagen' 'volvo']\n",
        " \n",
        "# condition = \n",
        "# ['excellent' 'fair' 'good' 'like new' 'new' 'salvage']\n",
        "\n",
        "\n",
        "# cylinders = \n",
        "# ['10 cylinders' '12 cylinders' '3 cylinders' '4 cylinders' '5 cylinders'\n",
        "#  '6 cylinders' '8 cylinders' 'other']\n",
        "\n",
        "\n",
        "# fuel = \n",
        "# ['diesel' 'electric' 'gas' 'hybrid' 'other'] \n",
        " \n",
        "\n",
        "# title_status = \n",
        "# ['clean' 'lien' 'missing' 'parts only' 'rebuilt' 'salvage']\n",
        "\n",
        "\n",
        "# transmission = \n",
        "# ['automatic' 'manual' 'other']\n",
        "\n",
        "\n",
        "# drive = \n",
        "# ['4wd' 'fwd' 'rwd']\n",
        "\n",
        "\n",
        "# size = \n",
        "# ['compact' 'full-size' 'mid-size' 'sub-compact']\n",
        "\n",
        "\n",
        "# type = \n",
        "# ['SUV' 'bus' 'convertible' 'coupe' 'hatchback' 'mini-van' 'offroad'\n",
        "#  'other' 'pickup' 'sedan' 'truck' 'van' 'wagon']\n",
        "\n",
        "# paint_color = \n",
        "# ['black' 'blue' 'brown' 'custom' 'green' 'grey' 'orange' 'purple' 'red'\n",
        "#  'silver' 'white' 'yellow']"
      ],
      "metadata": {
        "id": "GcWqI_Fvchvq"
      },
      "execution_count": 6,
      "outputs": []
    },
    {
      "cell_type": "code",
      "source": [
        "## Fill these Up\n",
        "region = \"mohave county\"\n",
        "year = 2014.0\n",
        "manufacturer = \"gmc\"\n",
        "model = \"sierra 1500 crew cab slt\"\n",
        "condition = \"good\"\n",
        "cylinders = \"8 cylinders\"\n",
        "fuel = \"gas\"\n",
        "odometer = 57923.0\n",
        "title_status = \"clean\"\n",
        "transmission = \"other\"\n",
        "drive = \"4wd\"\n",
        "size = \"full-size\"\n",
        "type = \"pickup\"\n",
        "paint_color = \"white\"\n",
        "\n",
        "\n",
        "## Put your zip code here (US zip code only) : \n",
        "zipCode = 10001"
      ],
      "metadata": {
        "id": "pJARw1b9bKby"
      },
      "execution_count": 23,
      "outputs": []
    },
    {
      "cell_type": "code",
      "source": [
        "\n",
        "import requests\n",
        "r = requests.get(url = f\"https://www.zipcodeapi.com/rest/DemoOnly00fgRVmzOsIoZMmvoAlrQiAo9dFAorCH4fcqynVwB2xkujIxbmJ69fwB/info.json/{zipCode}/degrees\")\n",
        "\n",
        "lat = r.json()[\"lat\"]\n",
        "long = r.json()[\"lng\"]"
      ],
      "metadata": {
        "id": "p-hBTo3x6YbQ"
      },
      "execution_count": null,
      "outputs": []
    },
    {
      "cell_type": "code",
      "source": [
        "num_col=['year','odometer','long','lat']\n",
        "\n",
        "cat_cols=['region','manufacturer','model','condition','cylinders','fuel',\n",
        "          'title_status','transmission','drive','size','type','paint_color']"
      ],
      "metadata": {
        "id": "QmdT9l-0dHBL"
      },
      "execution_count": 8,
      "outputs": []
    },
    {
      "cell_type": "code",
      "source": [
        "test = pd.DataFrame()\n",
        "test['region'] = [region]\n",
        "test['year'] = year\n",
        "test['manufacturer'] = manufacturer\n",
        "test['model'] = model\n",
        "test['condition'] = condition\n",
        "test['cylinders'] = cylinders\n",
        "test['fuel'] = fuel\n",
        "test['odometer'] = odometer\n",
        "test['title_status'] = title_status\n",
        "test['transmission'] = transmission\n",
        "test['drive'] = drive\n",
        "test['size'] = size\n",
        "test['type'] = type\n",
        "test['paint_color'] = paint_color\n",
        "test['lat'] = lat\n",
        "test['long'] = long"
      ],
      "metadata": {
        "id": "KOHJZCggdyQA"
      },
      "execution_count": 10,
      "outputs": []
    },
    {
      "cell_type": "code",
      "source": [
        "test.head()"
      ],
      "metadata": {
        "id": "ioojnrGygvbd"
      },
      "execution_count": null,
      "outputs": []
    },
    {
      "cell_type": "code",
      "source": [
        "from sklearn.preprocessing import LabelEncoder\n",
        "from collections import defaultdict\n",
        "test[cat_cols] = test[cat_cols].apply(lambda x : dic[x.name].transform(x))\n",
        "\n",
        "test['odometer'] = test[\"odometer\"] / 268564.0\n",
        "test['year'] = test[\"year\"] / 2021.0\n",
        "test['model'] = test[\"model\"] / 27907\n",
        "test['region'] = test[\"region\"] / 401\n",
        "test['lat'] = test[\"lat\"] / 79.6019\n",
        "test['long'] = test[\"long\"] / 139.388"
      ],
      "metadata": {
        "id": "z6uUnaw9e1VN"
      },
      "execution_count": 12,
      "outputs": []
    },
    {
      "cell_type": "code",
      "source": [
        "import xgboost\n",
        "import joblib\n",
        "\n",
        "model = joblib.load(\"models.pkl\") ## give the model path here!\n",
        "print(\"The price for the car is : $\",model.predict(test))"
      ],
      "metadata": {
        "id": "YZcWQ6khkxb3",
        "colab": {
          "base_uri": "https://localhost:8080/",
          "height": 364
        },
        "outputId": "3362cb8e-e1f1-4f75-897f-d3fa8653c5a9"
      },
      "execution_count": 4,
      "outputs": [
        {
          "output_type": "error",
          "ename": "EOFError",
          "evalue": "ignored",
          "traceback": [
            "\u001b[0;31m---------------------------------------------------------------------------\u001b[0m",
            "\u001b[0;31mEOFError\u001b[0m                                  Traceback (most recent call last)",
            "\u001b[0;32m<ipython-input-4-e0f5538da712>\u001b[0m in \u001b[0;36m<module>\u001b[0;34m()\u001b[0m\n\u001b[1;32m      2\u001b[0m \u001b[0;32mimport\u001b[0m \u001b[0mjoblib\u001b[0m\u001b[0;34m\u001b[0m\u001b[0;34m\u001b[0m\u001b[0m\n\u001b[1;32m      3\u001b[0m \u001b[0;34m\u001b[0m\u001b[0m\n\u001b[0;32m----> 4\u001b[0;31m \u001b[0mmodel\u001b[0m \u001b[0;34m=\u001b[0m \u001b[0mjoblib\u001b[0m\u001b[0;34m.\u001b[0m\u001b[0mload\u001b[0m\u001b[0;34m(\u001b[0m\u001b[0;34m\"models.pkl\"\u001b[0m\u001b[0;34m)\u001b[0m \u001b[0;31m## give the model path here!\u001b[0m\u001b[0;34m\u001b[0m\u001b[0;34m\u001b[0m\u001b[0m\n\u001b[0m\u001b[1;32m      5\u001b[0m \u001b[0mprint\u001b[0m\u001b[0;34m(\u001b[0m\u001b[0;34m\"The price for the car is : $\"\u001b[0m\u001b[0;34m,\u001b[0m\u001b[0mmodel\u001b[0m\u001b[0;34m.\u001b[0m\u001b[0mpredict\u001b[0m\u001b[0;34m(\u001b[0m\u001b[0mtest\u001b[0m\u001b[0;34m)\u001b[0m\u001b[0;34m)\u001b[0m\u001b[0;34m\u001b[0m\u001b[0;34m\u001b[0m\u001b[0m\n",
            "\u001b[0;32m/usr/local/lib/python3.7/dist-packages/joblib/numpy_pickle.py\u001b[0m in \u001b[0;36mload\u001b[0;34m(filename, mmap_mode)\u001b[0m\n\u001b[1;32m    585\u001b[0m                     \u001b[0;32mreturn\u001b[0m \u001b[0mload_compatibility\u001b[0m\u001b[0;34m(\u001b[0m\u001b[0mfobj\u001b[0m\u001b[0;34m)\u001b[0m\u001b[0;34m\u001b[0m\u001b[0;34m\u001b[0m\u001b[0m\n\u001b[1;32m    586\u001b[0m \u001b[0;34m\u001b[0m\u001b[0m\n\u001b[0;32m--> 587\u001b[0;31m                 \u001b[0mobj\u001b[0m \u001b[0;34m=\u001b[0m \u001b[0m_unpickle\u001b[0m\u001b[0;34m(\u001b[0m\u001b[0mfobj\u001b[0m\u001b[0;34m,\u001b[0m \u001b[0mfilename\u001b[0m\u001b[0;34m,\u001b[0m \u001b[0mmmap_mode\u001b[0m\u001b[0;34m)\u001b[0m\u001b[0;34m\u001b[0m\u001b[0;34m\u001b[0m\u001b[0m\n\u001b[0m\u001b[1;32m    588\u001b[0m     \u001b[0;32mreturn\u001b[0m \u001b[0mobj\u001b[0m\u001b[0;34m\u001b[0m\u001b[0;34m\u001b[0m\u001b[0m\n",
            "\u001b[0;32m/usr/local/lib/python3.7/dist-packages/joblib/numpy_pickle.py\u001b[0m in \u001b[0;36m_unpickle\u001b[0;34m(fobj, filename, mmap_mode)\u001b[0m\n\u001b[1;32m    504\u001b[0m     \u001b[0mobj\u001b[0m \u001b[0;34m=\u001b[0m \u001b[0;32mNone\u001b[0m\u001b[0;34m\u001b[0m\u001b[0;34m\u001b[0m\u001b[0m\n\u001b[1;32m    505\u001b[0m     \u001b[0;32mtry\u001b[0m\u001b[0;34m:\u001b[0m\u001b[0;34m\u001b[0m\u001b[0;34m\u001b[0m\u001b[0m\n\u001b[0;32m--> 506\u001b[0;31m         \u001b[0mobj\u001b[0m \u001b[0;34m=\u001b[0m \u001b[0munpickler\u001b[0m\u001b[0;34m.\u001b[0m\u001b[0mload\u001b[0m\u001b[0;34m(\u001b[0m\u001b[0;34m)\u001b[0m\u001b[0;34m\u001b[0m\u001b[0;34m\u001b[0m\u001b[0m\n\u001b[0m\u001b[1;32m    507\u001b[0m         \u001b[0;32mif\u001b[0m \u001b[0munpickler\u001b[0m\u001b[0;34m.\u001b[0m\u001b[0mcompat_mode\u001b[0m\u001b[0;34m:\u001b[0m\u001b[0;34m\u001b[0m\u001b[0;34m\u001b[0m\u001b[0m\n\u001b[1;32m    508\u001b[0m             warnings.warn(\"The file '%s' has been generated with a \"\n",
            "\u001b[0;32m/usr/lib/python3.7/pickle.py\u001b[0m in \u001b[0;36mload\u001b[0;34m(self)\u001b[0m\n\u001b[1;32m   1084\u001b[0m                 \u001b[0mkey\u001b[0m \u001b[0;34m=\u001b[0m \u001b[0mread\u001b[0m\u001b[0;34m(\u001b[0m\u001b[0;36m1\u001b[0m\u001b[0;34m)\u001b[0m\u001b[0;34m\u001b[0m\u001b[0;34m\u001b[0m\u001b[0m\n\u001b[1;32m   1085\u001b[0m                 \u001b[0;32mif\u001b[0m \u001b[0;32mnot\u001b[0m \u001b[0mkey\u001b[0m\u001b[0;34m:\u001b[0m\u001b[0;34m\u001b[0m\u001b[0;34m\u001b[0m\u001b[0m\n\u001b[0;32m-> 1086\u001b[0;31m                     \u001b[0;32mraise\u001b[0m \u001b[0mEOFError\u001b[0m\u001b[0;34m\u001b[0m\u001b[0;34m\u001b[0m\u001b[0m\n\u001b[0m\u001b[1;32m   1087\u001b[0m                 \u001b[0;32massert\u001b[0m \u001b[0misinstance\u001b[0m\u001b[0;34m(\u001b[0m\u001b[0mkey\u001b[0m\u001b[0;34m,\u001b[0m \u001b[0mbytes_types\u001b[0m\u001b[0;34m)\u001b[0m\u001b[0;34m\u001b[0m\u001b[0;34m\u001b[0m\u001b[0m\n\u001b[1;32m   1088\u001b[0m                 \u001b[0mdispatch\u001b[0m\u001b[0;34m[\u001b[0m\u001b[0mkey\u001b[0m\u001b[0;34m[\u001b[0m\u001b[0;36m0\u001b[0m\u001b[0;34m]\u001b[0m\u001b[0;34m]\u001b[0m\u001b[0;34m(\u001b[0m\u001b[0mself\u001b[0m\u001b[0;34m)\u001b[0m\u001b[0;34m\u001b[0m\u001b[0;34m\u001b[0m\u001b[0m\n",
            "\u001b[0;31mEOFError\u001b[0m: "
          ]
        }
      ]
    },
    {
      "cell_type": "code",
      "source": [
        ""
      ],
      "metadata": {
        "id": "o6eVl-efPNk2"
      },
      "execution_count": null,
      "outputs": []
    },
    {
      "cell_type": "code",
      "source": [
        ""
      ],
      "metadata": {
        "id": "_Q952tldOlFo"
      },
      "execution_count": null,
      "outputs": []
    },
    {
      "cell_type": "code",
      "source": [
        ""
      ],
      "metadata": {
        "id": "Z7F871uRNsG3"
      },
      "execution_count": null,
      "outputs": []
    }
  ]
}